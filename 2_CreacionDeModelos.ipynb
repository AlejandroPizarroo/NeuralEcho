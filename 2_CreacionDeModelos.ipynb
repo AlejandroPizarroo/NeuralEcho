{
  "nbformat": 4,
  "nbformat_minor": 0,
  "metadata": {
    "colab": {
      "provenance": [],
      "gpuType": "T4"
    },
    "kernelspec": {
      "name": "python3",
      "display_name": "Python 3"
    },
    "language_info": {
      "name": "python"
    },
    "accelerator": "GPU"
  },
  "cells": [
    {
      "cell_type": "markdown",
      "source": [
        "<h1> Creación de Modelos\n",
        "\n",
        "<h3> Creación de modelos en base a máscaras y a puntos de interés\n",
        "\n",
        "Equipo de Reto 5\n",
        "\n",
        "Inteligencia artificial avanzada para la ciencia de datos II (Grupo 502)\n",
        "\n",
        "30 de noviembre de 2023"
      ],
      "metadata": {
        "id": "3KMh7VjQf6WM"
      }
    },
    {
      "cell_type": "markdown",
      "source": [
        "### Preparar el entorno de trabajo"
      ],
      "metadata": {
        "id": "UKZZq8tEhVi5"
      }
    },
    {
      "cell_type": "code",
      "execution_count": 1,
      "metadata": {
        "id": "uzsB6USHfzcI"
      },
      "outputs": [],
      "source": [
        "# Importar librerias y módulos necesarios\n",
        "import os\n",
        "import numpy as np\n",
        "from keras.layers import Conv2D, Activation, MaxPooling2D, Conv2DTranspose, Concatenate, Input\n",
        "from keras.models import Model\n",
        "from keras.callbacks import ModelCheckpoint, CSVLogger\n",
        "from keras.models import load_model\n",
        "import random\n",
        "from google.colab.patches import cv2_imshow\n",
        "import cv2"
      ]
    },
    {
      "cell_type": "code",
      "source": [
        "# Definir el directorio de trabajo actual\n",
        "os.chdir('/content/drive/Shareddrives/Penta Tech/Reto')"
      ],
      "metadata": {
        "id": "6RjnuTfbhkvl"
      },
      "execution_count": 2,
      "outputs": []
    },
    {
      "cell_type": "code",
      "source": [
        "# Definir el directorio con los conjuntos de datos\n",
        "data_directory = os.path.join(os.getcwd(), 'CompleteDatasets')"
      ],
      "metadata": {
        "id": "MUWjCH_qhsxa"
      },
      "execution_count": 3,
      "outputs": []
    },
    {
      "cell_type": "code",
      "source": [
        "# Definir el directorio para guardar los mejores modelos y su historial de entrenamiento\n",
        "models_directory = os.path.join(os.getcwd(), 'Models')\n",
        "os.mkdir(models_directory)\n",
        "logs_directory = os.path.join(os.getcwd(), 'Logs')\n",
        "os.mkdir(logs_directory)"
      ],
      "metadata": {
        "id": "SDPxR_WiblVe"
      },
      "execution_count": 5,
      "outputs": []
    },
    {
      "cell_type": "code",
      "source": [
        "# Definir dimensiones importantes de los datos\n",
        "img_height = 112\n",
        "img_width = 112\n",
        "img_channels = 1\n",
        "mask_channels = 1\n",
        "landmarks_channels = 7"
      ],
      "metadata": {
        "id": "gFnkG1m-llot"
      },
      "execution_count": 6,
      "outputs": []
    },
    {
      "cell_type": "markdown",
      "source": [
        "### Definir la arquitectura para un modelo U-Net"
      ],
      "metadata": {
        "id": "LaKUAYE0itph"
      }
    },
    {
      "cell_type": "code",
      "source": [
        "# Definir un bloque convolucional\n",
        "def conv_block(input, num_filters):\n",
        "  x = Conv2D(num_filters, 3, padding='same')(input)\n",
        "  x = Activation('relu')(x)\n",
        "  x = Conv2D(num_filters, 3, padding='same')(x)\n",
        "  x = Activation('relu')(x)\n",
        "  return x"
      ],
      "metadata": {
        "id": "NhRyeheaizBE"
      },
      "execution_count": 6,
      "outputs": []
    },
    {
      "cell_type": "code",
      "source": [
        "# Definir un bloque codificador\n",
        "def encoder_block(input, num_filters):\n",
        "  x = conv_block(input, num_filters)\n",
        "  p = MaxPooling2D((2,2))(x)\n",
        "  return x, p"
      ],
      "metadata": {
        "id": "M3DSTaKWjCVT"
      },
      "execution_count": 7,
      "outputs": []
    },
    {
      "cell_type": "code",
      "source": [
        "# Definir un bloque decodificador\n",
        "def decoder_block(input, skip_features, num_filters):\n",
        "  x = Conv2DTranspose(num_filters, (2,2), strides=2, padding='same')(input)\n",
        "  x = Concatenate()([x, skip_features])\n",
        "  x = conv_block(x, num_filters)\n",
        "  return x"
      ],
      "metadata": {
        "id": "z8BksLd6jSnW"
      },
      "execution_count": 8,
      "outputs": []
    },
    {
      "cell_type": "code",
      "source": [
        "# Definir la arquitectura para un modelo U-Net\n",
        "def build_unet(input_shape, num_clases):\n",
        "  inputs = Input(input_shape)\n",
        "\n",
        "  s1, p1 = encoder_block(inputs, 64)\n",
        "  s2, p2 = encoder_block(p1, 128)\n",
        "  s3, p3 = encoder_block(p2, 256)\n",
        "  s4, p4 = encoder_block(p3, 512)\n",
        "\n",
        "  b1 = conv_block(p4, 1024)\n",
        "\n",
        "  d1 = decoder_block(b1, s4, 512)\n",
        "  d2 = decoder_block(d1, s3, 256)\n",
        "  d3 = decoder_block(d2, s2, 128)\n",
        "  d4 = decoder_block(d3, s1, 64)\n",
        "\n",
        "  outputs = Conv2D(num_clases, 1, padding='same', activation='sigmoid')(d4)\n",
        "\n",
        "  model = Model(inputs, outputs, name='U-Net')\n",
        "  return model"
      ],
      "metadata": {
        "id": "WxClJRFKjehy"
      },
      "execution_count": 9,
      "outputs": []
    },
    {
      "cell_type": "markdown",
      "source": [
        "### Crear y entrenar un modelo U-Net basado en máscaras"
      ],
      "metadata": {
        "id": "6l0mHvZYlMCi"
      }
    },
    {
      "cell_type": "code",
      "source": [
        "# Cargar el conjunto de entrenamiento\n",
        "train_input = np.load(os.path.join(data_directory, 'train_images.npy'))\n",
        "train_output = np.load(os.path.join(data_directory, 'train_masks.npy'))\n",
        "print('Dimensiones del conjunto de entrenamiento:', train_input.shape, train_output.shape)\n",
        "\n",
        "# Cargar el conjunto de validación\n",
        "val_input = np.load(os.path.join(data_directory, 'val_images.npy'))\n",
        "val_output = np.load(os.path.join(data_directory, 'val_masks.npy'))\n",
        "print('Dimensiones del conjunto de validación   :', val_input.shape, val_output.shape)"
      ],
      "metadata": {
        "colab": {
          "base_uri": "https://localhost:8080/"
        },
        "id": "vSlyk6n1asGN",
        "outputId": "27a90b18-b5ac-428c-89af-3757fa37e394"
      },
      "execution_count": 10,
      "outputs": [
        {
          "output_type": "stream",
          "name": "stdout",
          "text": [
            "Dimensiones del conjunto de entrenamiento: (14912, 112, 112, 1) (14912, 112, 112, 1)\n",
            "Dimensiones del conjunto de validación   : (2576, 112, 112, 1) (2576, 112, 112, 1)\n"
          ]
        }
      ]
    },
    {
      "cell_type": "code",
      "source": [
        "# Crear y compilar el modelo basado en máscaras\n",
        "mask_model = build_unet((img_height, img_height, img_channels), mask_channels)\n",
        "mask_model.compile(optimizer='adam', loss='binary_crossentropy', metrics=['accuracy'])"
      ],
      "metadata": {
        "id": "eTJV6x2slQQH"
      },
      "execution_count": 11,
      "outputs": []
    },
    {
      "cell_type": "code",
      "source": [
        "# Definir \"Callbacks\" para guardar los modelos mejor entrenados y el historial de entrenamiento\n",
        "checkpoint = ModelCheckpoint(os.path.join(models_directory, 'masks_{epoch:02d}_{val_accuracy:.2f}.h5'), monitor='val_accuracy', save_best_only=True, mode='max')\n",
        "log_csv = CSVLogger(os.path.join(logs_directory, 'MaskModels.csv'), separator=',', append=False)"
      ],
      "metadata": {
        "id": "3CZx1xjBmVEF"
      },
      "execution_count": 14,
      "outputs": []
    },
    {
      "cell_type": "code",
      "source": [
        "# Entrenar el modelo con los datos de entrenamiento y validación\n",
        "mask_model.fit(train_input, train_output,\n",
        "               validation_data=(val_input, val_output),\n",
        "               batch_size = 64,\n",
        "               callbacks=[checkpoint, log_csv],\n",
        "               epochs=10)"
      ],
      "metadata": {
        "colab": {
          "base_uri": "https://localhost:8080/"
        },
        "id": "NzDqDxEVmdLA",
        "outputId": "16237614-b4bc-4284-f475-e28a26214f65"
      },
      "execution_count": 15,
      "outputs": [
        {
          "output_type": "stream",
          "name": "stdout",
          "text": [
            "Epoch 1/10\n",
            "233/233 [==============================] - 143s 613ms/step - loss: 0.0852 - accuracy: 0.9654 - val_loss: 0.0517 - val_accuracy: 0.9787\n",
            "Epoch 2/10\n",
            "233/233 [==============================] - 148s 635ms/step - loss: 0.0466 - accuracy: 0.9807 - val_loss: 0.0413 - val_accuracy: 0.9826\n",
            "Epoch 3/10\n",
            "233/233 [==============================] - 145s 623ms/step - loss: 0.0404 - accuracy: 0.9831 - val_loss: 0.0398 - val_accuracy: 0.9832\n",
            "Epoch 4/10\n",
            "233/233 [==============================] - 148s 636ms/step - loss: 0.0379 - accuracy: 0.9841 - val_loss: 0.0401 - val_accuracy: 0.9832\n",
            "Epoch 5/10\n",
            "233/233 [==============================] - 145s 622ms/step - loss: 0.0361 - accuracy: 0.9846 - val_loss: 0.0367 - val_accuracy: 0.9845\n",
            "Epoch 6/10\n",
            "233/233 [==============================] - 144s 620ms/step - loss: 0.0347 - accuracy: 0.9852 - val_loss: 0.0346 - val_accuracy: 0.9854\n",
            "Epoch 7/10\n",
            "233/233 [==============================] - 143s 615ms/step - loss: 0.0336 - accuracy: 0.9856 - val_loss: 0.0365 - val_accuracy: 0.9846\n",
            "Epoch 8/10\n",
            "233/233 [==============================] - 145s 621ms/step - loss: 0.0329 - accuracy: 0.9859 - val_loss: 0.0339 - val_accuracy: 0.9858\n",
            "Epoch 9/10\n",
            "233/233 [==============================] - 143s 615ms/step - loss: 0.0325 - accuracy: 0.9861 - val_loss: 0.0343 - val_accuracy: 0.9855\n",
            "Epoch 10/10\n",
            "233/233 [==============================] - 143s 614ms/step - loss: 0.0330 - accuracy: 0.9858 - val_loss: 0.0354 - val_accuracy: 0.9852\n"
          ]
        },
        {
          "output_type": "execute_result",
          "data": {
            "text/plain": [
              "<keras.src.callbacks.History at 0x7dc7202e2ec0>"
            ]
          },
          "metadata": {},
          "execution_count": 15
        }
      ]
    },
    {
      "cell_type": "markdown",
      "source": [
        "### Crear y entrenar un modelo U-Net basado en puntos de interés"
      ],
      "metadata": {
        "id": "LCelMm14lQry"
      }
    },
    {
      "cell_type": "code",
      "source": [
        "# Cargar el conjunto de entrenamiento\n",
        "train_input = np.load(os.path.join(data_directory, 'train_images.npy'))\n",
        "train_output = np.load(os.path.join(data_directory, 'train_landmarks.npy'))\n",
        "print('Dimensiones del conjunto de entrenamiento:', train_input.shape, train_output.shape)\n",
        "\n",
        "# Cargar el conjunto de validación\n",
        "val_input = np.load(os.path.join(data_directory, 'val_images.npy'))\n",
        "val_output = np.load(os.path.join(data_directory, 'val_landmarks.npy'))\n",
        "print('Dimensiones del conjunto de validación:   ', val_input.shape, val_output.shape)"
      ],
      "metadata": {
        "colab": {
          "base_uri": "https://localhost:8080/"
        },
        "id": "ppIruJEobCB-",
        "outputId": "8f74e5e9-3557-45f8-c2ec-383d267b431f"
      },
      "execution_count": 10,
      "outputs": [
        {
          "output_type": "stream",
          "name": "stdout",
          "text": [
            "Dimensiones del conjunto de entrenamiento: (14912, 112, 112, 1) (14912, 112, 112, 7)\n",
            "Dimensiones del conjunto de validación:    (2576, 112, 112, 1) (2576, 112, 112, 7)\n"
          ]
        }
      ]
    },
    {
      "cell_type": "code",
      "source": [
        "# Crear y compilar el modelo basado en puntos de interés\n",
        "landmark_model = build_unet((img_height, img_height, img_channels), landmarks_channels)\n",
        "landmark_model.compile(optimizer='adam', loss='binary_crossentropy', metrics=['accuracy'])"
      ],
      "metadata": {
        "id": "uhHvTLpQk9DT"
      },
      "execution_count": 11,
      "outputs": []
    },
    {
      "cell_type": "code",
      "source": [
        "# Definir \"Callbacks\" para guardar los modelos mejor entrenados y el historial de entrenamiento\n",
        "checkpoint = ModelCheckpoint(os.path.join(models_directory, 'landmarks_{epoch:02d}_{val_accuracy:.2f}.h5'), monitor='val_accuracy', save_best_only=True, mode='max')\n",
        "log_csv = CSVLogger(os.path.join(logs_directory, 'LandmarkModels.csv'), separator=',', append=False)"
      ],
      "metadata": {
        "id": "z7FOaoPu5W9G"
      },
      "execution_count": 12,
      "outputs": []
    },
    {
      "cell_type": "code",
      "source": [
        "# Entrenar el modelo con los datos de entrenamiento y validación\n",
        "landmark_model.fit(train_input, train_output,\n",
        "               validation_data=(val_input, val_output),\n",
        "               batch_size = 64,\n",
        "               callbacks=[checkpoint, log_csv],\n",
        "               epochs=10)"
      ],
      "metadata": {
        "id": "LolH1k-2nkGd"
      },
      "execution_count": null,
      "outputs": []
    },
    {
      "cell_type": "markdown",
      "source": [
        "### Probar el funcionamiento de los mejores modelos con el conjunto de prueba"
      ],
      "metadata": {
        "id": "L6aC7z-Mnzev"
      }
    },
    {
      "cell_type": "code",
      "source": [
        "# Borrar los conjuntos de entrenamiento y validación tras entrenar los modelos\n",
        "train_input = train_output = val_input = val_output = 0\n",
        "\n",
        "# Cargar el conjunto de prueba\n",
        "test_images = np.load(os.path.join(data_directory, 'test_images.npy'))\n",
        "print('Dimensiones del conjunto de prueba:', test_images.shape)"
      ],
      "metadata": {
        "colab": {
          "base_uri": "https://localhost:8080/"
        },
        "id": "2MPEirNPdqcE",
        "outputId": "0644cf6b-4145-4ab6-9839-4159ff50de8e"
      },
      "execution_count": 7,
      "outputs": [
        {
          "output_type": "stream",
          "name": "stdout",
          "text": [
            "Dimensiones del conjunto de prueba: (2552, 112, 112, 1)\n"
          ]
        }
      ]
    },
    {
      "cell_type": "code",
      "source": [
        "# Cargar los mejores modelos\n",
        "mask_model = load_model(os.path.join(models_directory, 'masks_08_0.99.h5'), compile=False)\n",
        "landmark_model = load_model(os.path.join(models_directory, 'landmarks_05_0.45.h5'), compile=False)"
      ],
      "metadata": {
        "id": "bq0i1n7SBUW8"
      },
      "execution_count": 12,
      "outputs": []
    },
    {
      "cell_type": "code",
      "source": [
        "# Predecir con ambos modelos todos los datos en el conjunto de prueba\n",
        "mask_predictions = mask_model.predict(test_images)\n",
        "landmark_predictions = landmark_model.predict(test_images)"
      ],
      "metadata": {
        "id": "h6oiEjD78ap2",
        "colab": {
          "base_uri": "https://localhost:8080/"
        },
        "outputId": "c71cf2db-9f2a-4034-a433-bb7e6af7740c"
      },
      "execution_count": 13,
      "outputs": [
        {
          "output_type": "stream",
          "name": "stdout",
          "text": [
            "80/80 [==============================] - 19s 108ms/step\n",
            "80/80 [==============================] - 7s 86ms/step\n"
          ]
        }
      ]
    },
    {
      "cell_type": "code",
      "source": [
        "# Mostrar predicciones para datos aleatorios del conjunto de prueba\n",
        "predictions = []\n",
        "\n",
        "# Para k número de predicciones\n",
        "for index in random.choices(range(0, len(test_images)), k=5):\n",
        "\n",
        "  # Seleccionar la imagen original y convertir a tres canales\n",
        "  frame = test_images[index]\n",
        "  frame = np.concatenate([frame, frame, frame], axis=2)\n",
        "\n",
        "  # Añadir la máscara sobre la imagen original\n",
        "  mask_prediction = np.squeeze(mask_predictions[index] > 0.5)\n",
        "  frame[:,:,0] = cv2.addWeighted(mask_prediction.astype(np.float32), 0.75, frame[:,:,0].astype(np.float32), 1, 0)\n",
        "\n",
        "  # Añadir los puntos de interés sobre la imagen original\n",
        "  landmarks_prediction = landmark_predictions[index]\n",
        "  background = np.zeros_like(frame[:,:,0])\n",
        "  for channel in range(landmarks_prediction.shape[2]):\n",
        "    landmark = (landmarks_prediction[:,:,channel] >= np.max(landmarks_prediction[:,:,channel]))\n",
        "    coord = np.unravel_index(np.argmax(landmark), landmark.shape)\n",
        "    coord = (coord[1], coord[0])\n",
        "    cv2.circle(background, coord, 2, 255, -1)\n",
        "  frame[:,:,2] = cv2.addWeighted(background.astype(np.float32), 0.75, frame[:,:,2].astype(np.float32), 1, 0)\n",
        "\n",
        "  # Añadir la imagen a una lista\n",
        "  predictions.append(frame * 255)\n",
        "\n",
        "# Mostrar en una sola línea las imagenes originales con sus predicciones\n",
        "divider = np.full((img_height, 1, 3), 255)\n",
        "cv2_imshow(np.concatenate((predictions[0], divider, predictions[1], divider, predictions[2], divider, predictions[3], divider, predictions[4]), axis=1))"
      ],
      "metadata": {
        "colab": {
          "base_uri": "https://localhost:8080/",
          "height": 129
        },
        "id": "Fdg-IxmciW_G",
        "outputId": "48d7df00-843e-4135-ac0a-4cfc1717bf34"
      },
      "execution_count": 16,
      "outputs": [
        {
          "output_type": "display_data",
          "data": {
            "text/plain": [
              "<PIL.Image.Image image mode=RGB size=564x112>"
            ],
            "image/png": "[encoded data removed]"
          },
          "metadata": {}
        }
      ]
    }
  ]
}